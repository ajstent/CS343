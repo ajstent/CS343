{
 "cells": [
  {
   "cell_type": "code",
   "execution_count": 1,
   "metadata": {},
   "outputs": [],
   "source": [
    "import csv\n",
    "import pandas as pd\n",
    "import re"
   ]
  },
  {
   "attachments": {},
   "cell_type": "markdown",
   "metadata": {},
   "source": [
    "# process the output from the grammar generator at https://github.com/gabrielilharco/sentence-generator"
   ]
  },
  {
   "cell_type": "code",
   "execution_count": 2,
   "metadata": {},
   "outputs": [],
   "source": [
    "with open('out.txt') as f:\n",
    "    lines = f.readlines()\n",
    "res = {}\n",
    "for line in lines:\n",
    "    line = re.sub(r'^\\d+\\.', '', line)\n",
    "    line = re.sub(r'\\s', '', line)\n",
    "    line = re.sub(r'(\\/|\\*|\\+|\\-)', ' \\\\1 ', line)\n",
    "    res[line] = 1\n",
    "\n",
    "with open('data_contextfree.csv', 'w') as f:\n",
    "    f.write(\"formula\\n\")\n",
    "    for key in res.keys():\n",
    "         f.write(key + \"\\n\")\n",
    "    "
   ]
  },
  {
   "attachments": {},
   "cell_type": "markdown",
   "metadata": {},
   "source": [
    "process the recipes dataset"
   ]
  },
  {
   "cell_type": "code",
   "execution_count": 22,
   "metadata": {},
   "outputs": [],
   "source": [
    "data = pd.read_csv('test_dataset.csv', delimiter=',', encoding=\"utf-8\", encoding_errors='ignore')\n",
    "data = '\\n'.join(re.sub(r'(\\[|\\]|\\\",?)+', '', x) for x in data['directions'])\n",
    "data = data.encode('unicode_escape').decode('unicode_escape')\n",
    "data = re.sub(r'\\\\u[^\\s]+', '', data)\n",
    "with open('data_recipes.txt', 'w') as f:\n",
    "    f.write(data)"
   ]
  },
  {
   "attachments": {},
   "cell_type": "markdown",
   "metadata": {},
   "source": [
    "process the output from the regex generator!"
   ]
  },
  {
   "cell_type": "code",
   "execution_count": 30,
   "metadata": {},
   "outputs": [
    {
     "name": "stdout",
     "output_type": "stream",
     "text": [
      "          SKU  price\n",
      "0  UOW72ZLIVO  $7.09\n",
      "1  N0FLMNHXHF  $0.22\n",
      "2  I238063KJ0  $0.97\n",
      "3  MU87JJIOUY  $0.79\n",
      "4  E8LRZ9FOE4  $4.48\n",
      "Index(['SKU', 'price'], dtype='object')\n"
     ]
    },
    {
     "name": "stderr",
     "output_type": "stream",
     "text": [
      "/tmp/ipykernel_11711/2998304383.py:1: ParserWarning: Falling back to the 'python' engine because the 'c' engine does not support regex separators (separators > 1 char and different from '\\s+' are interpreted as regex); you can avoid this warning by specifying engine='python'.\n",
      "  data = pd.read_csv('data_regular.csv', delimiter='\\s', encoding=\"utf-8\", encoding_errors='ignore', header=0)\n"
     ]
    }
   ],
   "source": [
    "data = pd.read_csv('data_regular.csv', delimiter='\\s', encoding=\"utf-8\", encoding_errors='ignore', header=0)\n",
    "print(data.head())\n",
    "print(data.columns)\n",
    "data = '\\n'.join(data['price'])\n",
    "with open('data_regular.txt', 'w') as f:\n",
    "    f.write(data)\n"
   ]
  },
  {
   "cell_type": "code",
   "execution_count": null,
   "metadata": {},
   "outputs": [],
   "source": []
  }
 ],
 "metadata": {
  "kernelspec": {
   "display_name": "Python 3",
   "language": "python",
   "name": "python3"
  },
  "language_info": {
   "codemirror_mode": {
    "name": "ipython",
    "version": 3
   },
   "file_extension": ".py",
   "mimetype": "text/x-python",
   "name": "python",
   "nbconvert_exporter": "python",
   "pygments_lexer": "ipython3",
   "version": "3.10.4"
  },
  "orig_nbformat": 4
 },
 "nbformat": 4,
 "nbformat_minor": 2
}
