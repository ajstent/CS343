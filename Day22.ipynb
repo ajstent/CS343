{
 "cells": [
  {
   "cell_type": "code",
   "execution_count": null,
   "metadata": {},
   "outputs": [],
   "source": [
    "# Transformers \n",
    "\n",
    "Motivation: recurrent neural networks can only weight distant history *less than* recent history, but what if distant history matters *more than* recent history?\n",
    "* Cyclic behavior in time series\n",
    "* Subject-verb relationships in text\n",
    "\n",
    "# Resrpices\n",
    "\n",
    "* https://jalammar.github.io/illustrated-transformer/\n",
    "* https://jalammar.github.io/visualizing-neural-machine-translation-mechanics-of-seq2seq-models-with-attention/\n",
    "* https://jalammar.github.io/illustrated-gpt2/\n",
    "* http://nlp.seas.harvard.edu/annotated-transformer/\n",
    "* https://github.com/karpathy/minGPT\n",
    "* https://arxiv.org/pdf/1409.0473.pdf\n",
    "* https://arxiv.org/pdf/1808.04444.pdf"
   ]
  }
 ],
 "metadata": {
  "language_info": {
   "name": "python"
  },
  "orig_nbformat": 4
 },
 "nbformat": 4,
 "nbformat_minor": 2
}
